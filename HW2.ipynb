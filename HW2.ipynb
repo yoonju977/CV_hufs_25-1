{
  "nbformat": 4,
  "nbformat_minor": 0,
  "metadata": {
    "colab": {
      "private_outputs": true,
      "provenance": [],
      "authorship_tag": "ABX9TyPXtzYePiMRIr1TsepqDQPY",
      "include_colab_link": true
    },
    "kernelspec": {
      "name": "python3",
      "display_name": "Python 3"
    },
    "language_info": {
      "name": "python"
    }
  },
  "cells": [
    {
      "cell_type": "markdown",
      "metadata": {
        "id": "view-in-github",
        "colab_type": "text"
      },
      "source": [
        "<a href=\"https://colab.research.google.com/github/yoonju977/CV_hufs_25-1/blob/main/HW2.ipynb\" target=\"_parent\"><img src=\"https://colab.research.google.com/assets/colab-badge.svg\" alt=\"Open In Colab\"/></a>"
      ]
    },
    {
      "cell_type": "code",
      "execution_count": null,
      "metadata": {
        "id": "Og3ODCRR1Vrr"
      },
      "outputs": [],
      "source": [
        "from google.colab import drive\n",
        "drive.mount('/content/drive')"
      ]
    },
    {
      "cell_type": "code",
      "source": [
        "import cv2 as cv\n",
        "import numpy as np\n",
        "import matplotlib.pyplot as plt"
      ],
      "metadata": {
        "id": "MYAfzE8M4FG7"
      },
      "execution_count": null,
      "outputs": []
    },
    {
      "cell_type": "code",
      "source": [
        "img_path = '/content/drive/MyDrive/IMG_1172.jpeg'\n",
        "img = cv.imread(img_path)\n",
        "img = cv.resize(img, (800, 800))\n",
        "gray = cv.cvtColor(img, cv.COLOR_BGR2GRAY)"
      ],
      "metadata": {
        "id": "r2KlCCHM4hkE"
      },
      "execution_count": null,
      "outputs": []
    },
    {
      "cell_type": "code",
      "source": [
        "# 수평(x) 방향 Sobel\n",
        "sobel_x = cv.Sobel(gray, cv.CV_64F, 1, 0, ksize=5)\n",
        "abs_sobel_x = np.absolute(sobel_x)\n",
        "sobel_x_8u = np.uint8(abs_sobel_x)\n",
        "\n",
        "# 수직(y) 방향 Sobel\n",
        "sobel_y = cv.Sobel(gray, cv.CV_64F, 0, 1, ksize=5)\n",
        "abs_sobel_y = np.absolute(sobel_y)\n",
        "sobel_y_8u = np.uint8(abs_sobel_y)\n",
        "\n",
        "# Gradient Magnitude 계산\n",
        "magnitude = np.sqrt(sobel_x**2 + sobel_y**2)\n",
        "magnitude = np.uint8(np.clip(magnitude, 0, 255))\n",
        "\n",
        "# 결과 시각화\n",
        "plt.figure(figsize=(15,5))\n",
        "plt.subplot(1,4,1), plt.imshow(gray, cmap='gray'), plt.title('Grayscale'), plt.axis('off')\n",
        "plt.subplot(1,4,2), plt.imshow(sobel_x_8u, cmap='gray'), plt.title('Sobel X'), plt.axis('off')\n",
        "plt.subplot(1,4,3), plt.imshow(sobel_y_8u, cmap='gray'), plt.title('Sobel Y'), plt.axis('off')\n",
        "plt.subplot(1,4,4), plt.imshow(magnitude, cmap='gray'), plt.title('Gradient Magnitude'), plt.axis('off')\n",
        "plt.tight_layout()\n",
        "plt.show()"
      ],
      "metadata": {
        "id": "cJKb1mMc3WNi"
      },
      "execution_count": null,
      "outputs": []
    },
    {
      "cell_type": "code",
      "source": [
        "s_values = [1, 3, 5, 7]\n",
        "edges_list = []\n",
        "\n",
        "for s in s_values:\n",
        "    # Gaussian Blur\n",
        "    blurred = cv.GaussianBlur(gray, (s, s), 0)\n",
        "\n",
        "    # Canny Edge Detection\n",
        "    edges = cv.Canny(blurred, threshold1=50, threshold2=150, apertureSize=3)\n",
        "    edges_list.append(edges)\n",
        "\n",
        "\n",
        "plt.figure(figsize=(15, 8))\n",
        "for i, (s, edge_img) in enumerate(zip(s_values, edges_list)):\n",
        "    plt.subplot(2, 2, i+1)\n",
        "    plt.imshow(edge_img, cmap='gray')\n",
        "    plt.title(f'Canny Edge (s={s})')\n",
        "    plt.axis('off')\n",
        "\n",
        "plt.tight_layout()\n",
        "plt.show()"
      ],
      "metadata": {
        "id": "qd8ArtGo3baK"
      },
      "execution_count": null,
      "outputs": []
    },
    {
      "cell_type": "code",
      "source": [
        "# 원형 이미지\n",
        "img_size = 256\n",
        "center = (128, 128)\n",
        "radius = 80\n",
        "\n",
        "img = np.full((img_size, img_size), 50, dtype=np.uint8)\n",
        "cv.circle(img, center, radius, 200, -1)\n",
        "\n",
        "plt.imshow(img, cmap='gray')\n",
        "plt.title(\"Original Circle Image\")\n",
        "plt.axis('off')\n",
        "plt.show()"
      ],
      "metadata": {
        "id": "XOec5Vjh3qx9"
      },
      "execution_count": null,
      "outputs": []
    },
    {
      "cell_type": "code",
      "source": [
        "# Gaussian blur 적용 후 Canny edge\n",
        "blurred = cv.GaussianBlur(img, (1, 1), 0)\n",
        "edges = cv.Canny(blurred, 50, 150, apertureSize=3)\n",
        "\n",
        "plt.imshow(edges, cmap='gray')\n",
        "plt.title(\"Canny Edge (s=1)\")\n",
        "plt.axis('off')\n",
        "plt.show()"
      ],
      "metadata": {
        "id": "e3vjV8n13rgX"
      },
      "execution_count": null,
      "outputs": []
    },
    {
      "cell_type": "code",
      "source": [
        "# Sobel을 이용한 Gradient 방향 계산\n",
        "sobel_x = cv.Sobel(img, cv.CV_64F, 1, 0, ksize=3)\n",
        "sobel_y = cv.Sobel(img, cv.CV_64F, 0, 1, ksize=3)\n",
        "\n",
        "# 방향 각도 계산 (라디안 → 도)\n",
        "angles = np.arctan2(sobel_y, sobel_x) * (180 / np.pi)\n",
        "angles = (angles + 360) % 360\n",
        "\n",
        "\n",
        "selected_edges = np.zeros_like(edges)\n",
        "selected_edges[(edges > 0) & (angles >= 30) & (angles <= 60)] = 255\n",
        "\n",
        "plt.imshow(selected_edges, cmap='gray')\n",
        "plt.title(\"Edge Directions 30° ~ 60°\")\n",
        "plt.axis('off')\n",
        "plt.show()"
      ],
      "metadata": {
        "id": "_73-9iTl3wDs"
      },
      "execution_count": null,
      "outputs": []
    }
  ]
}